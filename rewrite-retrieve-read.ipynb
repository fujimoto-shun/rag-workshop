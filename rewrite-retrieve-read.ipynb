{
 "cells": [
  {
   "cell_type": "markdown",
   "id": "a3fa8177-c120-4e5e-b0d8-7713b9061a0c",
   "metadata": {},
   "source": [
    "# Question transformations"
   ]
  },
  {
   "cell_type": "markdown",
   "id": "948924c1-cae3-4046-b38d-e367dcf24b2b",
   "metadata": {},
   "source": [
    "# Splitting and ingesting the content of various URLs (across UK destinations)"
   ]
  },
  {
   "cell_type": "markdown",
   "id": "916b44a1-ef1b-4cc3-b4ce-0559affc9fc7",
   "metadata": {},
   "source": [
    "### Preparing the Chroma DB collections"
   ]
  },
  {
   "cell_type": "code",
   "execution_count": null,
   "id": "3f6f8160-3d18-4668-b1a4-60d110718f17",
   "metadata": {},
   "outputs": [],
   "source": [
    "from langchain_chroma import Chroma\n",
    "from langchain_community.embeddings import HuggingFaceEmbeddings\n",
    "\n",
    "OPENAI_API_KEY = \"TEST\""
   ]
  },
  {
   "cell_type": "code",
   "execution_count": null,
   "id": "e1723ba1-6b0e-4c81-ad98-f89ff60d2463",
   "metadata": {},
   "outputs": [],
   "source": [
    "granular_collection = Chroma(\n",
    "    collection_name=\"granular\",\n",
    "    embedding_function=HuggingFaceEmbeddings(model_name=\"all-MiniLM-L6-v2\"),\n",
    ")\n",
    "\n",
    "granular_collection.reset_collection()"
   ]
  },
  {
   "cell_type": "markdown",
   "id": "0a65632b-6508-4d10-8c02-819f0b2acf53",
   "metadata": {},
   "source": [
    "### Splitting and ingesting HTML content with the HTMLSectionSplitter "
   ]
  },
  {
   "cell_type": "code",
   "execution_count": null,
   "id": "0f0d88ea-1b56-4a03-8db2-c23a293e1491",
   "metadata": {},
   "outputs": [],
   "source": [
    "from langchain_text_splitters import HTMLSectionSplitter\n",
    "from langchain_community.document_loaders import AsyncHtmlLoader"
   ]
  },
  {
   "cell_type": "code",
   "execution_count": null,
   "id": "00fbb432-b8ef-4c85-a490-434e3e6720da",
   "metadata": {},
   "outputs": [],
   "source": [
    "destinations = [\n",
    "    \"Tokyo\",\n",
    "    \"Hiroshima\",\n",
    "    \"Kanazawa\",\n",
    "    \"Kyoto\",\n",
    "    \"Nagasaki\",\n",
    "    \"Nara\",\n",
    "    \"Osaka\",\n",
    "    \"Sapporo\",\n",
    "    \"Sendai\",\n",
    "]\n",
    "\n",
    "wikivoyage_root_url = \"https://en.wikivoyage.org/wiki\""
   ]
  },
  {
   "cell_type": "code",
   "execution_count": null,
   "id": "9a9393f8-c15e-444f-97dc-ed05b64d138a",
   "metadata": {},
   "outputs": [],
   "source": [
    "destination_urls = [f\"{wikivoyage_root_url}/{d}\" for d in destinations]"
   ]
  },
  {
   "cell_type": "code",
   "execution_count": null,
   "id": "f2246836-ce23-4963-81d2-4051cf34c120",
   "metadata": {},
   "outputs": [],
   "source": [
    "headers_to_split_on = [(\"h1\", \"Header 1\"), (\"h2\", \"Header 2\")]\n",
    "html_section_splitter = HTMLSectionSplitter(headers_to_split_on=headers_to_split_on)"
   ]
  },
  {
   "cell_type": "code",
   "execution_count": null,
   "id": "fdf1ebee-a9b9-4102-b208-9a29c9a070db",
   "metadata": {},
   "outputs": [],
   "source": [
    "def split_docs_into_granular_chunks(docs):\n",
    "    all_chunks = []\n",
    "    for doc in docs:\n",
    "        html_string = doc.page_content  # B\n",
    "        temp_chunks = html_section_splitter.split_text(html_string)  # C\n",
    "        h2_temp_chunks = [\n",
    "            chunk for chunk in temp_chunks if \"Header 2\" in chunk.metadata\n",
    "        ]  # D\n",
    "        all_chunks.extend(h2_temp_chunks)\n",
    "\n",
    "    return all_chunks"
   ]
  },
  {
   "cell_type": "code",
   "execution_count": null,
   "id": "9829e9e6-9cfe-4bbc-83ee-af4641346cf8",
   "metadata": {},
   "outputs": [],
   "source": [
    "for destination_url in destination_urls:\n",
    "    html_loader = AsyncHtmlLoader(destination_url)\n",
    "    docs = html_loader.load()\n",
    "\n",
    "    for doc in docs:\n",
    "        print(doc.metadata)\n",
    "        granular_chunks = split_docs_into_granular_chunks(docs)\n",
    "        granular_collection.add_documents(documents=granular_chunks)\n",
    "\n",
    "# A In case it exists\n",
    "# B Extract the HTML text from the document\n",
    "# C Each chunk is a H1 or H2 HTML section\n",
    "# D Only keep content associated with H2 sections\n",
    "# E Loader for one destination\n",
    "# F Documents of one destination"
   ]
  },
  {
   "cell_type": "markdown",
   "id": "9b764315-24d2-48c4-aa74-c97a93459261",
   "metadata": {},
   "source": [
    "# Rewrite-retrieve-read"
   ]
  },
  {
   "cell_type": "markdown",
   "id": "f86d9495-4e11-4cbb-8e3f-07d4d8c30a59",
   "metadata": {},
   "source": [
    "## Retrieving content with original user question"
   ]
  },
  {
   "cell_type": "code",
   "execution_count": null,
   "id": "8b024738-b46d-4709-91f8-50e941e68276",
   "metadata": {},
   "outputs": [],
   "source": [
    "user_question = \"Tell me some fun things I can enjoy in Kyoto\"\n",
    "initial_results = granular_collection.similarity_search(query=user_question, k=4)\n",
    "for doc in initial_results:\n",
    "    print(doc)"
   ]
  },
  {
   "cell_type": "code",
   "execution_count": null,
   "id": "1a637f6a-117f-4e93-9c9b-84d361369dde",
   "metadata": {},
   "outputs": [],
   "source": [
    "# COMMENT: the retrieval from the vector store against the original question is bad"
   ]
  },
  {
   "cell_type": "markdown",
   "id": "4c4b329e-739c-44e9-a5f9-1567d9e79fcd",
   "metadata": {},
   "source": [
    "## Question rewrite"
   ]
  },
  {
   "cell_type": "markdown",
   "id": "f9dbfa99-ec8a-4775-a4a7-33502ee21533",
   "metadata": {},
   "source": [
    "### Setting up the query rewriter chain"
   ]
  },
  {
   "cell_type": "code",
   "execution_count": null,
   "id": "4f4fc6b2-eb69-48e3-9d15-b4e5ff6a5096",
   "metadata": {},
   "outputs": [],
   "source": [
    "from langchain_ollama.chat_models import ChatOllama\n",
    "from langchain_core.output_parsers import StrOutputParser\n",
    "from langchain_core.prompts import ChatPromptTemplate"
   ]
  },
  {
   "cell_type": "code",
   "execution_count": null,
   "id": "3034a15b-cec3-433e-856e-dbfdcfa8eedd",
   "metadata": {},
   "outputs": [],
   "source": [
    "llm = ChatOllama(model=\"gemma3:1b\")"
   ]
  },
  {
   "cell_type": "code",
   "execution_count": null,
   "id": "7e60da8d-6566-4d5a-a7a8-bbabc9fcb050",
   "metadata": {},
   "outputs": [],
   "source": [
    "rewriter_prompt_template = \"\"\"\n",
    "Generate search query for the Chroma DB vector store from a user question, allowing for a more accurate response through semantic search.\n",
    "Just return the revised Chroma DB query, with quotes around it. \n",
    "\n",
    "User question: {user_question}\n",
    "Revised Chroma DB query:\n",
    "\"\"\"\n",
    "\n",
    "rewriter_prompt = ChatPromptTemplate.from_template(rewriter_prompt_template)"
   ]
  },
  {
   "cell_type": "code",
   "execution_count": null,
   "id": "3037753f-2919-4a08-a4dd-e1e4157d5429",
   "metadata": {},
   "outputs": [],
   "source": [
    "rewriter_chain = rewriter_prompt | llm | StrOutputParser()"
   ]
  },
  {
   "cell_type": "markdown",
   "id": "5342f6fb-ee59-4b1a-a8f9-4f27a34f5039",
   "metadata": {},
   "source": [
    "### Retrieving content with the rewritten query"
   ]
  },
  {
   "cell_type": "code",
   "execution_count": null,
   "id": "329c68fc-28ea-4ea0-8a68-d051880191ef",
   "metadata": {},
   "outputs": [],
   "source": [
    "user_question = \"Tell me some fun things I can do in Kyoto\"\n",
    "\n",
    "search_query = rewriter_chain.invoke({\"user_question\": user_question})\n",
    "print(search_query)"
   ]
  },
  {
   "cell_type": "code",
   "execution_count": null,
   "id": "ef23e323-16dd-49bd-923f-2476687bf71f",
   "metadata": {},
   "outputs": [],
   "source": [
    "improved_results = granular_collection.similarity_search(query=search_query, k=3)\n",
    "for doc in improved_results:\n",
    "    print(doc)"
   ]
  },
  {
   "cell_type": "markdown",
   "id": "b5482c37-a227-4a99-ae35-c8adec9183dc",
   "metadata": {},
   "source": [
    "### Combining everything in a single RAG chain"
   ]
  },
  {
   "cell_type": "code",
   "execution_count": null,
   "id": "1102bfee-cabb-45dc-88e4-198c394489e1",
   "metadata": {},
   "outputs": [],
   "source": [
    "from langchain_core.runnables import RunnablePassthrough"
   ]
  },
  {
   "cell_type": "code",
   "execution_count": null,
   "id": "41036bbe-1043-41a1-af38-e1db6aa7532f",
   "metadata": {},
   "outputs": [],
   "source": [
    "retriever = granular_collection.as_retriever()\n",
    "\n",
    "rag_prompt_template = \"\"\"\n",
    "Given a question and some context, answer the question.\n",
    "If you do not know the answer, just say I do not know.\n",
    "\n",
    "Context: {context}\n",
    "Question: {question}\n",
    "\"\"\"\n",
    "\n",
    "rag_prompt = ChatPromptTemplate.from_template(rag_prompt_template)\n",
    "\n",
    "rewrite_retrieve_read_rag_chain = (\n",
    "    {\n",
    "        \"context\": {\"user_question\": RunnablePassthrough()}\n",
    "        | rewriter_chain\n",
    "        | retriever,  # A\n",
    "        \"question\": RunnablePassthrough(),  # B\n",
    "    }\n",
    "    | rag_prompt\n",
    "    | llm\n",
    "    | StrOutputParser()\n",
    ")\n",
    "# A The context is returned by the retriver after feeding to it the rewritten query\n",
    "# B This is the original user question"
   ]
  },
  {
   "cell_type": "code",
   "execution_count": null,
   "id": "9b549250-fcea-42f6-9792-b8aa0013f541",
   "metadata": {},
   "outputs": [],
   "source": [
    "user_question = \"Tell me some fun things I can do in Kyoto\"\n",
    "\n",
    "answer = rewrite_retrieve_read_rag_chain.invoke(user_question)\n",
    "print(answer)"
   ]
  },
  {
   "cell_type": "code",
   "execution_count": null,
   "id": "4e1ee653-57d7-4fd4-a6be-2200c75405ee",
   "metadata": {},
   "outputs": [],
   "source": []
  }
 ],
 "metadata": {
  "kernelspec": {
   "display_name": "rag-study-workshop",
   "language": "python",
   "name": "python3"
  },
  "language_info": {
   "codemirror_mode": {
    "name": "ipython",
    "version": 3
   },
   "file_extension": ".py",
   "mimetype": "text/x-python",
   "name": "python",
   "nbconvert_exporter": "python",
   "pygments_lexer": "ipython3",
   "version": "3.12.11"
  }
 },
 "nbformat": 4,
 "nbformat_minor": 5
}
